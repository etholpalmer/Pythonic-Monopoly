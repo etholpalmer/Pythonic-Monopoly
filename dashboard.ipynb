{
  "nbformat": 4,
  "nbformat_minor": 0,
  "metadata": {
    "file_extension": ".py",
    "kernelspec": {
      "name": "python3",
      "display_name": "Python 3"
    },
    "mimetype": "text/x-python",
    "name": "python",
    "npconvert_exporter": "python",
    "pygments_lexer": "ipython3",
    "version": 3,
    "colab": {
      "name": "dashboard.ipynb",
      "provenance": []
    },
    "language_info": {
      "name": "python"
    }
  },
  "cells": [
    {
      "cell_type": "markdown",
      "metadata": {
        "id": "EmRsvKt7KC2Z"
      },
      "source": [
        "# Toronto Dwellings Analysis Dashboard\n",
        "\n",
        "In this notebook, you will compile the visualizations from the previous analysis into functions to create a Panel dashboard."
      ]
    },
    {
      "cell_type": "code",
      "metadata": {
        "colab": {
          "base_uri": "https://localhost:8080/"
        },
        "id": "PjSFcG017jlS",
        "outputId": "c14a6757-0b3d-4eec-f484-521125ef9ee4"
      },
      "source": [
        "from google.colab import drive\n",
        "drive.mount('/content/drive')"
      ],
      "execution_count": 9,
      "outputs": [
        {
          "output_type": "stream",
          "text": [
            "Drive already mounted at /content/drive; to attempt to forcibly remount, call drive.mount(\"/content/drive\", force_remount=True).\n"
          ],
          "name": "stdout"
        }
      ]
    },
    {
      "cell_type": "code",
      "metadata": {
        "id": "cF5zT-ZN4PJU"
      },
      "source": [
        "!pip install hvplot holoviews &> log\n",
        "!pip install colab-env --upgrade &> log\n",
        "!pip install urllib2 &> log\n",
        "!pip install jupyter_bokeh &> log\n",
        "\n",
        "!cp '/content/drive/MyDrive/BootCampSpot/.env' .\n",
        "!cp '/content/drive/MyDrive/BootCampSpot/rsaPalmer.py' .\n",
        "!cp '/content/drive/MyDrive/BootCampSpot/pandasPalmer.py' .\n",
        "!mkdir ./Data/ &> /dev/null\n",
        "!cp '/content/drive/MyDrive/Colab Notebooks/HomeWork/PMData/toronto_neighbourhoods_census_data.csv' ./Data/\n",
        "!cp '/content/drive/MyDrive/Colab Notebooks/HomeWork/PMData/toronto_neighbourhoods_coordinates.csv' ./Data/"
      ],
      "execution_count": 10,
      "outputs": []
    },
    {
      "cell_type": "code",
      "metadata": {
        "id": "Vb51S0raKg_O"
      },
      "source": [
        ""
      ],
      "execution_count": 10,
      "outputs": []
    },
    {
      "cell_type": "code",
      "metadata": {
        "colab": {
          "base_uri": "https://localhost:8080/"
        },
        "id": "BhXqrKD557Zk",
        "outputId": "b00bf4c2-9be6-4d0f-9deb-1334a1d50b82"
      },
      "source": [
        "from dotenv import load_dotenv, find_dotenv\n",
        "from urllib.parse import urlparse\n",
        "import os, importlib\n",
        "import rsaPalmer, pandasPalmer\n",
        "importlib.reload(rsaPalmer)\n",
        "importlib.reload(pandasPalmer)"
      ],
      "execution_count": 11,
      "outputs": [
        {
          "output_type": "stream",
          "text": [
            "Default Path = /content/drive/MyDrive/BootCampSpot/\n",
            "Default Env file Path = /content/drive/MyDrive/BootCampSpot/.env exists\n",
            "File rsaPalmer is being imported\n"
          ],
          "name": "stdout"
        },
        {
          "output_type": "execute_result",
          "data": {
            "text/plain": [
              "<module 'pandasPalmer' from '/content/pandasPalmer.py'>"
            ]
          },
          "metadata": {
            "tags": []
          },
          "execution_count": 11
        }
      ]
    },
    {
      "cell_type": "code",
      "metadata": {
        "id": "q999GF0mKC2b"
      },
      "source": [
        "# Initialize the Panel Extensions (for Plotly)\n",
        "import panel as pn\n",
        "pn.extension(\"plotly\")"
      ],
      "execution_count": 12,
      "outputs": []
    },
    {
      "cell_type": "code",
      "metadata": {
        "id": "_nolm80vKC2a"
      },
      "source": [
        "# imports\n",
        "import panel as pn\n",
        "pn.extension('plotly')\n",
        "import plotly.express as px\n",
        "import pandas as pd\n",
        "import hvplot.pandas\n",
        "import matplotlib.pyplot as plt\n",
        "import os\n",
        "from pathlib import Path\n",
        "from dotenv import load_dotenv"
      ],
      "execution_count": 13,
      "outputs": []
    },
    {
      "cell_type": "code",
      "metadata": {
        "id": "yHzV1OU52A7R"
      },
      "source": [
        "# Read the Mapbox API key\n",
        "map_box_api = rsaPalmer.Get_API_Key('map_box_api')[1]\n",
        "# Set the Mapbox API\n",
        "px.set_mapbox_access_token(map_box_api)"
      ],
      "execution_count": 14,
      "outputs": []
    },
    {
      "cell_type": "code",
      "metadata": {
        "id": "Xp6-TZKBKC2c"
      },
      "source": [
        "# Read the Mapbox API key\n",
        "# load_dotenv()\n",
        "# map_box_api = os.getenv(\"mapbox\")\n",
        "# px.set_mapbox_access_token(map_box_api)"
      ],
      "execution_count": null,
      "outputs": []
    },
    {
      "cell_type": "markdown",
      "metadata": {
        "id": "Wbp2pyBqKC2c"
      },
      "source": [
        "# Import Data"
      ]
    },
    {
      "cell_type": "code",
      "metadata": {
        "id": "mSkLup8jKC2d"
      },
      "source": [
        "# Import the CSVs to Pandas DataFrames\n",
        "file_path = Path(\"./Data/toronto_neighbourhoods_census_data.csv\")\n",
        "to_data = pd.read_csv(file_path, index_col=\"year\")\n",
        "\n",
        "file_path = Path(\"./Data/toronto_neighbourhoods_coordinates.csv\")\n",
        "df_neighbourhood_locations = pd.read_csv(file_path)"
      ],
      "execution_count": 15,
      "outputs": []
    },
    {
      "cell_type": "markdown",
      "metadata": {
        "id": "N-plaQesKC2d"
      },
      "source": [
        "- - -"
      ]
    },
    {
      "cell_type": "markdown",
      "metadata": {
        "id": "3MjMOFaHKC2e"
      },
      "source": [
        "## Panel Visualizations\n",
        "\n",
        "In this section, you will copy the code for each plot type from your analysis notebook and place it into separate functions that Panel can use to create panes for the dashboard. \n",
        "\n",
        "These functions will convert the plot object to a Panel pane.\n",
        "\n",
        "Be sure to include any DataFrame transformation/manipulation code required along with the plotting code.\n",
        "\n",
        "Return a Panel pane object from each function that can be used to build the dashboard.\n",
        "\n",
        "Note: Remove any `.show()` lines from the code. We want to return the plots instead of showing them. The Panel dashboard will then display the plots."
      ]
    },
    {
      "cell_type": "markdown",
      "metadata": {
        "id": "pWWqeufkKC2f"
      },
      "source": [
        "### Global available data"
      ]
    },
    {
      "cell_type": "code",
      "metadata": {
        "id": "Ap9qhzMFKC2f"
      },
      "source": [
        "# Getting the data from the top 10 expensive neighbourhoods\n",
        "# YOUR CODE HERE!\n",
        "\n",
        "# Calculate the mean number of dwelling types units per year\n",
        "# YOUR CODE HERE!\n",
        "\n",
        "# Calculate the average monthly shelter costs for owned and rented dwellings\n",
        "# YOUR CODE HERE!"
      ],
      "execution_count": null,
      "outputs": []
    },
    {
      "cell_type": "markdown",
      "metadata": {
        "id": "iAGLTP3BKC2g"
      },
      "source": [
        "### Panel Visualization Functions"
      ]
    },
    {
      "cell_type": "code",
      "metadata": {
        "id": "CjQ4hpeqKC2g"
      },
      "source": [
        "# Define Panel visualization functions\n",
        "def neighbourhood_map():\n",
        "    \"\"\"Neighbourhood Map\"\"\"\n",
        "   \n",
        "    # YOUR CODE HERE!\n",
        "\n",
        "def create_bar_chart(data, title, xlabel, ylabel, color):\n",
        "    \"\"\"\n",
        "    Create a barplot based in the data argument.\n",
        "    \"\"\"\n",
        "    \n",
        "    # YOUR CODE HERE!\n",
        "\n",
        "def create_line_chart(data, title, xlabel, ylabel, color):\n",
        "    \"\"\"\n",
        "    Create a line chart based in the data argument.\n",
        "    \"\"\"\n",
        "    \n",
        "    # YOUR CODE HERE!\n",
        "\n",
        "def average_house_value():\n",
        "    \"\"\"Average house values per year.\"\"\"\n",
        "    \n",
        "    # YOUR CODE HERE!\n",
        "\n",
        "def average_value_by_neighbourhood():\n",
        "    \"\"\"Average house values by neighbourhood.\"\"\"\n",
        "    \n",
        "    # YOUR CODE HERE!\n",
        "\n",
        "def number_dwelling_types():\n",
        "    \"\"\"Number of dwelling types per year\"\"\"\n",
        "    \n",
        "    # YOUR CODE HERE!\n",
        "\n",
        "def average_house_value_snapshot():\n",
        "    \"\"\"Average house value for all Toronto's neighbourhoods per year.\"\"\"\n",
        "\n",
        "    # YOUR CODE HERE!\n",
        "\n",
        "def top_most_expensive_neighbourhoods():\n",
        "    \"\"\"Top 10 most expensive neighbourhoods.\"\"\"\n",
        "    \n",
        "    # YOUR CODE HERE!\n",
        "\n",
        "def sunburts_cost_analysis():\n",
        "    \"\"\"Sunburst chart to conduct a costs analysis of most expensive neighbourhoods in Toronto per year.\"\"\"\n",
        "    \n",
        "    # YOUR CODE HERE!"
      ],
      "execution_count": null,
      "outputs": []
    },
    {
      "cell_type": "markdown",
      "metadata": {
        "id": "1-lynAHgKC2h"
      },
      "source": [
        "## Panel Dashboard\n",
        "\n",
        "In this section, you will combine all of the plots into a single dashboard view using Panel. Be creative with your dashboard design!"
      ]
    },
    {
      "cell_type": "code",
      "metadata": {
        "id": "aYtb2UdCKC2h"
      },
      "source": [
        "# Create a Title for the Dashboard\n",
        "# YOUR CODE HERE!\n",
        "\n",
        "# Define a welcome text\n",
        "# YOUR CODE HERE!\n",
        "\n",
        "# Create a tab layout for the dashboard\n",
        "# YOUR CODE HERE!\n",
        "\n",
        "\n",
        "# Create the main dashboard\n",
        "# YOUR CODE HERE!"
      ],
      "execution_count": null,
      "outputs": []
    },
    {
      "cell_type": "markdown",
      "metadata": {
        "id": "zzeHCj8jKC2i"
      },
      "source": [
        "## Serve the Panel Dashboard"
      ]
    },
    {
      "cell_type": "code",
      "metadata": {
        "id": "KffsopWgKC2i"
      },
      "source": [
        "dashboard.servable()"
      ],
      "execution_count": null,
      "outputs": []
    },
    {
      "cell_type": "markdown",
      "metadata": {
        "id": "3saHsX7sKC2j"
      },
      "source": [
        "# Debugging\n",
        "\n",
        "Note: Some of the Plotly express plots may not render in the notebook through the panel functions.\n",
        "\n",
        "However, you can test each plot by uncommenting the following code"
      ]
    },
    {
      "cell_type": "code",
      "metadata": {
        "id": "re5VMadMKC2j"
      },
      "source": [
        "# neighbourhood_map().show()"
      ],
      "execution_count": null,
      "outputs": []
    },
    {
      "cell_type": "code",
      "metadata": {
        "id": "7gsJf84LKC2j"
      },
      "source": [
        "# create_bar_chart(data, title, xlabel, ylabel, color)\n",
        "\n",
        "# # Bar chart for 2001\n",
        "# create_bar_chart(df_dwelling_units.loc[2001], \"Dwelling Types in Toronto in 2001\", \"2001\", \"Dwelling Type Units\", \"red\")\n",
        "\n",
        "# # Bar chart for 2006\n",
        "# create_bar_chart(df_dwelling_units.loc[2006], \"Dwelling Types in Toronto in 2006\", \"2006\", \"Dwelling Type Units\", \"blue\")\n",
        "\n",
        "# # Bar chart for 2011\n",
        "# create_bar_chart(df_dwelling_units.loc[2011], \"Dwelling Types in Toronto in 2011\", \"2011\", \"Dwelling Type Units\", \"orange\")\n",
        "\n",
        "# # Bar chart for 2016\n",
        "# create_bar_chart(df_dwelling_units.loc[2016], \"Dwelling Types in Toronto in 2016\", \"2016\", \"Dwelling Type Units\", \"magenta\")"
      ],
      "execution_count": null,
      "outputs": []
    },
    {
      "cell_type": "code",
      "metadata": {
        "id": "yUnZ3VjWKC2k"
      },
      "source": [
        "# create_line_chart(data, title, xlabel, ylabel, color)\n",
        "\n",
        "# # Line chart for owned dwellings\n",
        "# create_line_chart(df_avg_costs[\"shelter_costs_owned\"], \"Average Monthly Shelter Cost for Owned Dwellings in Toronto\", \"Year\", \"Avg Monthly Shelter Costs\", \"blue\")\n",
        "\n",
        "# # Line chart for rented dwellings\n",
        "# create_line_chart(df_avg_costs[\"shelter_costs_rented\"], \"Average Monthly Shelter Cost for Rented Dwellings in Toronto\", \"Year\", \"Avg Monthly Shelter Costs\", \"orange\")"
      ],
      "execution_count": null,
      "outputs": []
    },
    {
      "cell_type": "code",
      "metadata": {
        "id": "e8zhjn9zKC2l"
      },
      "source": [
        "# average_house_value()"
      ],
      "execution_count": null,
      "outputs": []
    },
    {
      "cell_type": "code",
      "metadata": {
        "id": "5SNWG-YBKC2l"
      },
      "source": [
        "# average_value_by_neighbourhood()"
      ],
      "execution_count": null,
      "outputs": []
    },
    {
      "cell_type": "code",
      "metadata": {
        "id": "tJX1s7BgKC2l"
      },
      "source": [
        "# number_dwelling_types()"
      ],
      "execution_count": null,
      "outputs": []
    },
    {
      "cell_type": "code",
      "metadata": {
        "id": "35Pn2n2HKC2m"
      },
      "source": [
        "# average_house_value_snapshot()"
      ],
      "execution_count": null,
      "outputs": []
    },
    {
      "cell_type": "code",
      "metadata": {
        "id": "V39-PCzYKC2m"
      },
      "source": [
        "# top_most_expensive_neighbourhoods()"
      ],
      "execution_count": null,
      "outputs": []
    },
    {
      "cell_type": "code",
      "metadata": {
        "id": "2MhbwdmtKC2m"
      },
      "source": [
        "# sunburts_cost_analysis()"
      ],
      "execution_count": null,
      "outputs": []
    }
  ]
}